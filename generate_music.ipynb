{
 "cells": [
  {
   "cell_type": "code",
   "execution_count": 24,
   "metadata": {},
   "outputs": [
    {
     "name": "stdout",
     "output_type": "stream",
     "text": [
      "WARNING:tensorflow:No training configuration found in save file, so the model was *not* compiled. Compile it manually.\n",
      ".mid file generated at /home/prithivi/Projects/musicGen/round1/gens/comp2/composition.mid\n"
     ]
    }
   ],
   "source": [
    "from keras.models import load_model\n",
    "from numpy.random import randn\n",
    "from matplotlib import pyplot\n",
    "from PIL import Image\n",
    "import os\n",
    "import numpy as np\n",
    "from img2midi import image2midi\n",
    "\n",
    "COUNT = 2\n",
    "\n",
    "def generate_latent_points(latent_dim, n_samples):\n",
    "    x_input = randn(latent_dim * n_samples)\n",
    "    x_input = x_input.reshape(n_samples, latent_dim)\n",
    "    return x_input\n",
    "\n",
    "os.chdir(\"/home/prithivi/Projects/musicGen/round1/src\")\n",
    "g_model = load_model(\"../g_model\")\n",
    "latent_dim = 100\n",
    "\n",
    "latent_points = generate_latent_points(latent_dim, 1)\n",
    "X = g_model.predict(latent_points)\n",
    "array = np.array(X.reshape(106,106),dtype = np.uint8)\n",
    "array*= 255\n",
    "\n",
    "try:\n",
    "    os.mkdir(f\"../gens/comp{COUNT}\")\n",
    "except FileExistsError:\n",
    "    pass\n",
    "os.chdir(f\"../gens/comp{COUNT}\")\n",
    "\n",
    "new_image = Image.fromarray(array,'L')\n",
    "new_image = new_image.save('composition.png')\n",
    "\n",
    "image2midi('composition.png')\n",
    "\n",
    "print(f\".mid file generated at {os.getcwd()}/composition.mid\")"
   ]
  }
 ],
 "metadata": {
  "interpreter": {
   "hash": "916dbcbb3f70747c44a77c7bcd40155683ae19c65e1c03b4aa3499c5328201f1"
  },
  "kernelspec": {
   "display_name": "Python 3.8.10 64-bit",
   "language": "python",
   "name": "python3"
  },
  "language_info": {
   "codemirror_mode": {
    "name": "ipython",
    "version": 3
   },
   "file_extension": ".py",
   "mimetype": "text/x-python",
   "name": "python",
   "nbconvert_exporter": "python",
   "pygments_lexer": "ipython3",
   "version": "3.8.10"
  },
  "orig_nbformat": 4
 },
 "nbformat": 4,
 "nbformat_minor": 2
}
